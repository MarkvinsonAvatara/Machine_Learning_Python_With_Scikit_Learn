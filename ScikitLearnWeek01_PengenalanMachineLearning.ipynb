{
 "cells": [
  {
   "cell_type": "markdown",
   "metadata": {},
   "source": [
    "# 1. Pengenalan Machine Learning"
   ]
  },
  {
   "cell_type": "markdown",
   "metadata": {},
   "source": [
    "## What is Machine Learning?"
   ]
  },
  {
   "cell_type": "markdown",
   "metadata": {},
   "source": [
    "### According to experts\n",
    "-  Machine Learning is a study that gives computers the ability to learn without being explicitly programmed - Arthur Samuel\n",
    "-  Machine Learning is a program can be said to learn from experience (E) with respect to some class of tasks (T) and performance measure (P), if its performance at tasks in T , as measured by P, improves with experience (E) . - Tom Mitchell"
   ]
  },
  {
   "cell_type": "markdown",
   "metadata": {},
   "source": [
    "Jadi Machine Learning adalah suatu bidang ilmu yang dapat memampukan suatu program komputer belajar dari sekumpulan data"
   ]
  },
  {
   "cell_type": "markdown",
   "metadata": {},
   "source": [
    "## Learning Problem"
   ]
  },
  {
   "cell_type": "markdown",
   "metadata": {},
   "source": [
    "- Learning problem dalam konteks Machine Learning (ML) melibatkan suatu dataset (terdiri dari sejumlah n sample data) untuk melakukan prediksi terhadap properties yang tidak diketahui pada dataset lain yang sejenis.\n",
    "- Secara umum, Learning Problem dapat dibagi menjadi dua"
   ]
  },
  {
   "cell_type": "markdown",
   "metadata": {},
   "source": [
    "## Supervised Learning Problem"
   ]
  },
  {
   "cell_type": "markdown",
   "metadata": {},
   "source": [
    "program memprediksi suatu nilai output untuk suatu input berdasarkan proses __learning__ dengan memanfaatkan sekumpulan data yang terbagi dalam dua label, yaitu input dan output. Di sini program akan melakukan __learning__ dari sekumpulan kasus (examples) yang menyertakan __jawaban benar__"
   ]
  },
  {
   "cell_type": "markdown",
   "metadata": {},
   "source": [
    "### Terminologi Dasar pada Supervised Learning"
   ]
  },
  {
   "cell_type": "markdown",
   "metadata": {},
   "source": [
    "- __output__       : Label, response variable, dependent variable, regressand, criterion variable, measured variable, responding variable, explained variable, outcome variable, experimental variable, dan output variable\n",
    "- __input__        : Features, explanatory variables, predictors, regressors, controlled variables, and exposure variables\n",
    "- __training set__ : Sekumpulan \"Contoh\" yang digunakan untuk proses __learning (training)__ pada supervised learning. \n",
    "- __test set__     : Sekumpulan \"Contoh\" yang digunakan untuk mengukur performa pada supervised learning\n",
    "- Response Variable bisa dianalogikan sebagai __kunci jawaban__ dan __explanatory variables__ bisa dianalogikan sebagai __pernyataannya__"
   ]
  },
  {
   "cell_type": "markdown",
   "metadata": {},
   "source": [
    "### Supervised Machine Learning Tasks"
   ]
  },
  {
   "cell_type": "markdown",
   "metadata": {},
   "source": [
    "- Classification tasks: menekankan pada proses learning (training) untuk melakukan prediksi nilai discrete (ex: category, class, label) dari sejumlah features\n",
    "- Regression tasks:menekankan pada proses learning (training) untuk melakukan prediksi nilai continuous (floating point) dari sejumlah features"
   ]
  },
  {
   "cell_type": "markdown",
   "metadata": {},
   "source": [
    "## Unsupervised Learning problem"
   ]
  },
  {
   "cell_type": "markdown",
   "metadata": {},
   "source": [
    "program tidak melakukan learning dari labeled data; melainkan mencoba menemukan pola (patterns) pada data. Di sini program melakukan __learning__ dari sekumpulan contoh kasus (examples) tanpa diserta __jawaban benar__"
   ]
  },
  {
   "cell_type": "markdown",
   "metadata": {},
   "source": [
    "### Unsupervised Machine Learning Tasks"
   ]
  },
  {
   "cell_type": "markdown",
   "metadata": {},
   "source": [
    "- Clustering tasks: menekankan pada proses eksplorasi data untuk menemukan kelompok (grou) pada data berdasarkan kemiripan (kedekatan) karakteristik\n",
    "- Dimensionality Reduction tasks: menekankan pada proses eksplorasi data untuk menemukan sejumlah features yang paling berdampak terhadap responsive variable"
   ]
  },
  {
   "cell_type": "markdown",
   "metadata": {},
   "source": [
    "# Check This books for more knowledege about machine learning"
   ]
  },
  {
   "cell_type": "markdown",
   "metadata": {},
   "source": [
    "- Machine Learning Yearning (by Andrew Ng)\n",
    "- The Hundred-Page Machine Learning Book (by Andriy Burkov)\n",
    "- Learning From Data (by Yaser S. Abu-Mostafa)"
   ]
  },
  {
   "cell_type": "markdown",
   "metadata": {},
   "source": [
    "source: https://www.youtube.com/watch?v=vqgucRK5K1A Trs_m"
   ]
  }
 ],
 "metadata": {
  "kernelspec": {
   "display_name": "Python 3",
   "language": "python",
   "name": "python3"
  },
  "language_info": {
   "codemirror_mode": {
    "name": "ipython",
    "version": 3
   },
   "file_extension": ".py",
   "mimetype": "text/x-python",
   "name": "python",
   "nbconvert_exporter": "python",
   "pygments_lexer": "ipython3",
   "version": "3.8.5"
  }
 },
 "nbformat": 4,
 "nbformat_minor": 4
}
