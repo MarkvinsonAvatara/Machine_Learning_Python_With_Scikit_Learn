{
 "cells": [
  {
   "cell_type": "markdown",
   "metadata": {},
   "source": [
    "# 6. Classification dengan KNN (K-Nearest Neighbours)"
   ]
  },
  {
   "cell_type": "markdown",
   "metadata": {},
   "source": [
    "- KNN adalah model machine learning yang dapat digunakan untuk melakukan prediksi berdasarkan kedekatan karakteristik dengan sejumlah tetangga terdekat\n",
    "- Prediksi yang dilakukan dapat diterapkan dengan baik pada classification maupun regression tasks\n",
    "\n",
    "Refrensi:https://en.wikipedia.org/wiki/K-nearest_neighbors_algorithm"
   ]
  },
  {
   "cell_type": "markdown",
   "metadata": {},
   "source": [
    "## Sample Dataset"
   ]
  },
  {
   "cell_type": "code",
   "execution_count": 1,
   "metadata": {},
   "outputs": [
    {
     "data": {
      "text/html": [
       "<div>\n",
       "<style scoped>\n",
       "    .dataframe tbody tr th:only-of-type {\n",
       "        vertical-align: middle;\n",
       "    }\n",
       "\n",
       "    .dataframe tbody tr th {\n",
       "        vertical-align: top;\n",
       "    }\n",
       "\n",
       "    .dataframe thead th {\n",
       "        text-align: right;\n",
       "    }\n",
       "</style>\n",
       "<table border=\"1\" class=\"dataframe\">\n",
       "  <thead>\n",
       "    <tr style=\"text-align: right;\">\n",
       "      <th></th>\n",
       "      <th>tinggi</th>\n",
       "      <th>berat</th>\n",
       "      <th>jk</th>\n",
       "    </tr>\n",
       "  </thead>\n",
       "  <tbody>\n",
       "    <tr>\n",
       "      <th>0</th>\n",
       "      <td>158</td>\n",
       "      <td>64</td>\n",
       "      <td>pria</td>\n",
       "    </tr>\n",
       "    <tr>\n",
       "      <th>1</th>\n",
       "      <td>170</td>\n",
       "      <td>86</td>\n",
       "      <td>pria</td>\n",
       "    </tr>\n",
       "    <tr>\n",
       "      <th>2</th>\n",
       "      <td>183</td>\n",
       "      <td>84</td>\n",
       "      <td>pria</td>\n",
       "    </tr>\n",
       "    <tr>\n",
       "      <th>3</th>\n",
       "      <td>191</td>\n",
       "      <td>80</td>\n",
       "      <td>pria</td>\n",
       "    </tr>\n",
       "    <tr>\n",
       "      <th>4</th>\n",
       "      <td>155</td>\n",
       "      <td>49</td>\n",
       "      <td>wanita</td>\n",
       "    </tr>\n",
       "    <tr>\n",
       "      <th>5</th>\n",
       "      <td>168</td>\n",
       "      <td>59</td>\n",
       "      <td>wanita</td>\n",
       "    </tr>\n",
       "    <tr>\n",
       "      <th>6</th>\n",
       "      <td>180</td>\n",
       "      <td>67</td>\n",
       "      <td>wanita</td>\n",
       "    </tr>\n",
       "    <tr>\n",
       "      <th>7</th>\n",
       "      <td>150</td>\n",
       "      <td>54</td>\n",
       "      <td>wanita</td>\n",
       "    </tr>\n",
       "    <tr>\n",
       "      <th>8</th>\n",
       "      <td>170</td>\n",
       "      <td>60</td>\n",
       "      <td>wanita</td>\n",
       "    </tr>\n",
       "  </tbody>\n",
       "</table>\n",
       "</div>"
      ],
      "text/plain": [
       "   tinggi  berat      jk\n",
       "0     158     64    pria\n",
       "1     170     86    pria\n",
       "2     183     84    pria\n",
       "3     191     80    pria\n",
       "4     155     49  wanita\n",
       "5     168     59  wanita\n",
       "6     180     67  wanita\n",
       "7     150     54  wanita\n",
       "8     170     60  wanita"
      ]
     },
     "execution_count": 1,
     "metadata": {},
     "output_type": "execute_result"
    }
   ],
   "source": [
    "import pandas as pd\n",
    "\n",
    "sensus={\n",
    "    'tinggi':[158, 170, 183, 191, 155, 168, 180, 150, 170],\n",
    "    'berat': [64, 86, 84, 80, 49, 59, 67, 54, 60],\n",
    "    'jk':[\n",
    "        'pria', 'pria', 'pria', 'pria', 'wanita', 'wanita', 'wanita', 'wanita','wanita'\n",
    "    ]\n",
    "}\n",
    "sensus_df=pd.DataFrame(sensus)\n",
    "sensus_df"
   ]
  },
  {
   "cell_type": "markdown",
   "metadata": {},
   "source": [
    "## Visualisasi Data"
   ]
  },
  {
   "cell_type": "code",
   "execution_count": 2,
   "metadata": {},
   "outputs": [
    {
     "data": {
      "image/png": "[encoded data removed]",
      "text/plain": [
       "<Figure size 432x288 with 1 Axes>"
      ]
     },
     "metadata": {
      "needs_background": "light"
     },
     "output_type": "display_data"
    }
   ],
   "source": [
    "import matplotlib.pyplot as plt\n",
    "\n",
    "fig, ax=plt.subplots()\n",
    "for jk, d in sensus_df.groupby('jk'):\n",
    "    ax.scatter(d['tinggi'], d['berat'], label=jk)\n",
    "\n",
    "plt.legend(loc='upper left')\n",
    "plt.title('Sebaran Data Tinggi Badan, Berat Badan, dan Jenis Kelamin')\n",
    "plt.xlabel('Tinggi Badan (cm)')\n",
    "plt.ylabel('Berat Badan (kg)')\n",
    "plt.grid(True)\n",
    "plt.show()"
   ]
  },
  {
   "cell_type": "markdown",
   "metadata": {},
   "source": [
    "## Classification dengan KNN"
   ]
  },
  {
   "cell_type": "markdown",
   "metadata": {},
   "source": [
    "### Preprocessing Dataset"
   ]
  },
  {
   "cell_type": "code",
   "execution_count": 3,
   "metadata": {},
   "outputs": [
    {
     "name": "stdout",
     "output_type": "stream",
     "text": [
      "x_train:\n",
      "[[158  64]\n",
      " [170  86]\n",
      " [183  84]\n",
      " [191  80]\n",
      " [155  49]\n",
      " [168  59]\n",
      " [180  67]\n",
      " [150  54]\n",
      " [170  60]]\n",
      "\n",
      "y_train:['pria' 'pria' 'pria' 'pria' 'wanita' 'wanita' 'wanita' 'wanita' 'wanita']\n"
     ]
    }
   ],
   "source": [
    "# conversi tinggi badan, berat badan, dan jenis kelamin ke numpy array\n",
    "import numpy as np\n",
    "\n",
    "x_train= np.array(sensus_df[['tinggi', 'berat']])\n",
    "y_train= np.array(sensus_df['jk'])\n",
    "\n",
    "print(f'x_train:\\n{x_train}\\n')\n",
    "print(f'y_train:{y_train}')"
   ]
  },
  {
   "cell_type": "markdown",
   "metadata": {},
   "source": [
    "note: target dengan tipe data String masih dapat di proses dengan baik hanya saja akan mengalami kendalai saat evaluasi model"
   ]
  },
  {
   "cell_type": "code",
   "execution_count": 4,
   "metadata": {},
   "outputs": [
    {
     "name": "stdout",
     "output_type": "stream",
     "text": [
      "y_train:\n",
      "[[0]\n",
      " [0]\n",
      " [0]\n",
      " [0]\n",
      " [1]\n",
      " [1]\n",
      " [1]\n",
      " [1]\n",
      " [1]]\n"
     ]
    }
   ],
   "source": [
    "# conversi nilai string menjadi numerik dengan menggunakan LabelBinarizer\n",
    "from sklearn.preprocessing import LabelBinarizer\n",
    "\n",
    "lb = LabelBinarizer()\n",
    "y_train = lb.fit_transform(y_train)\n",
    "print(f'y_train:\\n{y_train}')"
   ]
  },
  {
   "cell_type": "markdown",
   "metadata": {},
   "source": [
    "note: \n",
    "Dengan menggunakan LabelBinarizer secara tidak langsung kita juga mengkonversi data kita menjadi array dua dimensi\n",
    "- 0 --> Pria\n",
    "- 1 --> Wanita"
   ]
  },
  {
   "cell_type": "code",
   "execution_count": 5,
   "metadata": {},
   "outputs": [
    {
     "name": "stdout",
     "output_type": "stream",
     "text": [
      "y_train: [0 0 0 0 1 1 1 1 1]\n"
     ]
    }
   ],
   "source": [
    "#merubah kembali menajdi array satu dimensi\n",
    "y_train=y_train.flatten()\n",
    "print(f'y_train: {y_train}')"
   ]
  },
  {
   "cell_type": "markdown",
   "metadata": {},
   "source": [
    "### Training KNN Classification Model"
   ]
  },
  {
   "cell_type": "code",
   "execution_count": 7,
   "metadata": {},
   "outputs": [
    {
     "data": {
      "text/plain": [
       "KNeighborsClassifier(n_neighbors=3)"
      ]
     },
     "execution_count": 7,
     "metadata": {},
     "output_type": "execute_result"
    }
   ],
   "source": [
    "from sklearn.neighbors import KNeighborsClassifier\n",
    "\n",
    "K=3 #parameter ini digunakan untuk menentukan jumlah tetangga terdekat yang akan dilibatkan untuk proses prediksi\n",
    "model = KNeighborsClassifier(n_neighbors=K)\n",
    "model.fit(x_train, y_train)"
   ]
  },
  {
   "cell_type": "markdown",
   "metadata": {},
   "source": [
    "### Prediksi Jenis Kelamin"
   ]
  },
  {
   "cell_type": "code",
   "execution_count": 9,
   "metadata": {},
   "outputs": [
    {
     "data": {
      "text/plain": [
       "array([[155,  70]])"
      ]
     },
     "execution_count": 9,
     "metadata": {},
     "output_type": "execute_result"
    }
   ],
   "source": [
    "tinggi_badan = 155\n",
    "berat_badan= 70\n",
    "x_new= np.array([tinggi_badan, berat_badan]).reshape(1, -1)\n",
    "x_new"
   ]
  },
  {
   "cell_type": "markdown",
   "metadata": {},
   "source": [
    "note: karna hanya terdapat satu dataset saja maka perlu direshape menjadi array dua dimensi"
   ]
  },
  {
   "cell_type": "code",
   "execution_count": 12,
   "metadata": {},
   "outputs": [
    {
     "data": {
      "text/plain": [
       "array([1])"
      ]
     },
     "execution_count": 12,
     "metadata": {},
     "output_type": "execute_result"
    }
   ],
   "source": [
    "y_new= model.predict(x_new)\n",
    "y_new"
   ]
  },
  {
   "cell_type": "code",
   "execution_count": 14,
   "metadata": {},
   "outputs": [
    {
     "data": {
      "text/plain": [
       "array(['wanita'], dtype='<U6')"
      ]
     },
     "execution_count": 14,
     "metadata": {},
     "output_type": "execute_result"
    }
   ],
   "source": [
    "lb.inverse_transform(y_new)#melihat nilai 1 itu apa"
   ]
  },
  {
   "cell_type": "markdown",
   "metadata": {},
   "source": [
    "### Visualisasi Nearest Neighbours"
   ]
  },
  {
   "cell_type": "code",
   "execution_count": 18,
   "metadata": {},
   "outputs": [
    {
     "data": {
      "image/png": "[encoded data removed]",
      "text/plain": [
       "<Figure size 432x288 with 1 Axes>"
      ]
     },
     "metadata": {
      "needs_background": "light"
     },
     "output_type": "display_data"
    }
   ],
   "source": [
    "import matplotlib.pyplot as plt\n",
    "fig, ax = plt.subplots()\n",
    "for jk, d in sensus_df.groupby('jk'):\n",
    "    ax.scatter(d['tinggi'], d['berat'], label=jk)\n",
    "\n",
    "plt.scatter(tinggi_badan,\n",
    "           berat_badan,\n",
    "           marker='s',\n",
    "           color='blue',\n",
    "           label='misterius')\n",
    "\n",
    "plt.legend(loc='upper left')\n",
    "plt.title('Sebaran Data Tinggi Badan, Berat Badan, dan Jenis Kelamin')\n",
    "plt.xlabel('Tinggi Badan (cm)')\n",
    "plt.ylabel('Berat Badan (kg)')\n",
    "plt.grid(True)\n",
    "plt.show()"
   ]
  },
  {
   "cell_type": "markdown",
   "metadata": {},
   "source": [
    "## Kalkulasi Distance (Euclidean Distance)"
   ]
  },
  {
   "cell_type": "markdown",
   "metadata": {},
   "source": [
    "_distance_ = $\\sqrt{(t_1 - t_2)^2 + (b_1 - b_2)^2} $\n",
    "\n",
    "Referensi: https://en.wikipedia.org/wiki/Euclidean_distance"
   ]
  },
  {
   "cell_type": "code",
   "execution_count": 19,
   "metadata": {},
   "outputs": [
    {
     "data": {
      "text/plain": [
       "array([155,  70])"
      ]
     },
     "execution_count": 19,
     "metadata": {},
     "output_type": "execute_result"
    }
   ],
   "source": [
    "misterius= np.array([tinggi_badan, berat_badan])\n",
    "misterius"
   ]
  },
  {
   "cell_type": "code",
   "execution_count": 20,
   "metadata": {},
   "outputs": [
    {
     "data": {
      "text/plain": [
       "array([[158,  64],\n",
       "       [170,  86],\n",
       "       [183,  84],\n",
       "       [191,  80],\n",
       "       [155,  49],\n",
       "       [168,  59],\n",
       "       [180,  67],\n",
       "       [150,  54],\n",
       "       [170,  60]], dtype=int64)"
      ]
     },
     "execution_count": 20,
     "metadata": {},
     "output_type": "execute_result"
    }
   ],
   "source": [
    "x_train"
   ]
  },
  {
   "cell_type": "code",
   "execution_count": 22,
   "metadata": {},
   "outputs": [
    {
     "data": {
      "text/plain": [
       "[6.708203932499369,\n",
       " 21.93171219946131,\n",
       " 31.304951684997057,\n",
       " 37.36308338453881,\n",
       " 21.0,\n",
       " 17.029386365926403,\n",
       " 25.179356624028344,\n",
       " 16.76305461424021,\n",
       " 18.027756377319946]"
      ]
     },
     "execution_count": 22,
     "metadata": {},
     "output_type": "execute_result"
    }
   ],
   "source": [
    "from scipy.spatial.distance import euclidean\n",
    "\n",
    "data_jarak= [euclidean(misterius, d) for d in x_train]#euclidean digunakan untuk mengukur jarak antara data poin misterius dengan data poin lain di dalam variable x_train\n",
    "data_jarak"
   ]
  },
  {
   "cell_type": "code",
   "execution_count": 24,
   "metadata": {},
   "outputs": [
    {
     "data": {
      "text/html": [
       "<div>\n",
       "<style scoped>\n",
       "    .dataframe tbody tr th:only-of-type {\n",
       "        vertical-align: middle;\n",
       "    }\n",
       "\n",
       "    .dataframe tbody tr th {\n",
       "        vertical-align: top;\n",
       "    }\n",
       "\n",
       "    .dataframe thead th {\n",
       "        text-align: right;\n",
       "    }\n",
       "</style>\n",
       "<table border=\"1\" class=\"dataframe\">\n",
       "  <thead>\n",
       "    <tr style=\"text-align: right;\">\n",
       "      <th></th>\n",
       "      <th>tinggi</th>\n",
       "      <th>berat</th>\n",
       "      <th>jk</th>\n",
       "      <th>jarak</th>\n",
       "    </tr>\n",
       "  </thead>\n",
       "  <tbody>\n",
       "    <tr>\n",
       "      <th>0</th>\n",
       "      <td>158</td>\n",
       "      <td>64</td>\n",
       "      <td>pria</td>\n",
       "      <td>6.708204</td>\n",
       "    </tr>\n",
       "    <tr>\n",
       "      <th>7</th>\n",
       "      <td>150</td>\n",
       "      <td>54</td>\n",
       "      <td>wanita</td>\n",
       "      <td>16.763055</td>\n",
       "    </tr>\n",
       "    <tr>\n",
       "      <th>5</th>\n",
       "      <td>168</td>\n",
       "      <td>59</td>\n",
       "      <td>wanita</td>\n",
       "      <td>17.029386</td>\n",
       "    </tr>\n",
       "    <tr>\n",
       "      <th>8</th>\n",
       "      <td>170</td>\n",
       "      <td>60</td>\n",
       "      <td>wanita</td>\n",
       "      <td>18.027756</td>\n",
       "    </tr>\n",
       "    <tr>\n",
       "      <th>4</th>\n",
       "      <td>155</td>\n",
       "      <td>49</td>\n",
       "      <td>wanita</td>\n",
       "      <td>21.000000</td>\n",
       "    </tr>\n",
       "    <tr>\n",
       "      <th>1</th>\n",
       "      <td>170</td>\n",
       "      <td>86</td>\n",
       "      <td>pria</td>\n",
       "      <td>21.931712</td>\n",
       "    </tr>\n",
       "    <tr>\n",
       "      <th>6</th>\n",
       "      <td>180</td>\n",
       "      <td>67</td>\n",
       "      <td>wanita</td>\n",
       "      <td>25.179357</td>\n",
       "    </tr>\n",
       "    <tr>\n",
       "      <th>2</th>\n",
       "      <td>183</td>\n",
       "      <td>84</td>\n",
       "      <td>pria</td>\n",
       "      <td>31.304952</td>\n",
       "    </tr>\n",
       "    <tr>\n",
       "      <th>3</th>\n",
       "      <td>191</td>\n",
       "      <td>80</td>\n",
       "      <td>pria</td>\n",
       "      <td>37.363083</td>\n",
       "    </tr>\n",
       "  </tbody>\n",
       "</table>\n",
       "</div>"
      ],
      "text/plain": [
       "   tinggi  berat      jk      jarak\n",
       "0     158     64    pria   6.708204\n",
       "7     150     54  wanita  16.763055\n",
       "5     168     59  wanita  17.029386\n",
       "8     170     60  wanita  18.027756\n",
       "4     155     49  wanita  21.000000\n",
       "1     170     86    pria  21.931712\n",
       "6     180     67  wanita  25.179357\n",
       "2     183     84    pria  31.304952\n",
       "3     191     80    pria  37.363083"
      ]
     },
     "execution_count": 24,
     "metadata": {},
     "output_type": "execute_result"
    }
   ],
   "source": [
    "sensus_df['jarak'] = data_jarak\n",
    "sensus_df.sort_values(['jarak'])#urutannya dari nilai terkecil (ascending)"
   ]
  },
  {
   "cell_type": "markdown",
   "metadata": {},
   "source": [
    "## Evaluasi KNN Classification Model"
   ]
  },
  {
   "cell_type": "markdown",
   "metadata": {},
   "source": [
    "### Testing Set"
   ]
  },
  {
   "cell_type": "code",
   "execution_count": 25,
   "metadata": {},
   "outputs": [
    {
     "name": "stdout",
     "output_type": "stream",
     "text": [
      "x_test:\n",
      "[[168  65]\n",
      " [180  96]\n",
      " [160  52]\n",
      " [169  67]]\n",
      "\n",
      "y_test:\n",
      "[0 0 1 1]\n",
      "\n"
     ]
    }
   ],
   "source": [
    "x_test= np.array([[168, 65], [180,96],[160,52],[169,67]])\n",
    "y_test= lb.transform(np.array(['pria','pria','wanita','wanita'])).flatten()#flatten ada agar array array yang dihasilkan satu dimensi\n",
    "\n",
    "print(f'x_test:\\n{x_test}\\n')\n",
    "print(f'y_test:\\n{y_test}\\n')"
   ]
  },
  {
   "cell_type": "markdown",
   "metadata": {},
   "source": [
    "### Prediksi terhadap testing set"
   ]
  },
  {
   "cell_type": "code",
   "execution_count": 26,
   "metadata": {},
   "outputs": [
    {
     "data": {
      "text/plain": [
       "array([1, 0, 1, 1])"
      ]
     },
     "execution_count": 26,
     "metadata": {},
     "output_type": "execute_result"
    }
   ],
   "source": [
    "y_pred = model.predict(x_test)\n",
    "y_pred"
   ]
  },
  {
   "cell_type": "markdown",
   "metadata": {},
   "source": [
    "### Evaluasi model dengan Accuracy score"
   ]
  },
  {
   "cell_type": "markdown",
   "metadata": {},
   "source": [
    "Accuracy adalah proporsi dari instances pada train test yang diklasifikasikan secara benar atau diprediksi secara tepat"
   ]
  },
  {
   "cell_type": "markdown",
   "metadata": {},
   "source": [
    "### _accuracy_ = $\\frac{tp+tn}{tp+tn+fp+fn}$"
   ]
  },
  {
   "cell_type": "markdown",
   "metadata": {},
   "source": [
    "Referensi: https://en.wikipedia.org/wiki/Precision_and_recall"
   ]
  },
  {
   "cell_type": "code",
   "execution_count": 27,
   "metadata": {},
   "outputs": [
    {
     "name": "stdout",
     "output_type": "stream",
     "text": [
      "Accuracy: 0.75\n"
     ]
    }
   ],
   "source": [
    "from sklearn.metrics import accuracy_score\n",
    "acc = accuracy_score(y_test, y_pred)\n",
    "print(f'Accuracy: {acc}')"
   ]
  },
  {
   "cell_type": "markdown",
   "metadata": {},
   "source": [
    "### Evaluasi model dengan Precission score"
   ]
  },
  {
   "cell_type": "markdown",
   "metadata": {},
   "source": [
    "Precission adalah proporsi dari testing set yang diprediksi sebagai postif oleh model yang memang benar-benar postif"
   ]
  },
  {
   "cell_type": "markdown",
   "metadata": {},
   "source": [
    "### _precission_ = $\\frac {tp}{tp+fp}$"
   ]
  },
  {
   "cell_type": "markdown",
   "metadata": {},
   "source": [
    "Referensi: https://en.wikipedia.org/wiki/Precision_and_recall"
   ]
  },
  {
   "cell_type": "code",
   "execution_count": 28,
   "metadata": {},
   "outputs": [
    {
     "name": "stdout",
     "output_type": "stream",
     "text": [
      "Precission: 0.6666666666666666\n"
     ]
    }
   ],
   "source": [
    "from sklearn.metrics import precision_score\n",
    "prec= precision_score(y_test, y_pred)\n",
    "print(f'Precission: {prec}')"
   ]
  },
  {
   "cell_type": "markdown",
   "metadata": {},
   "source": [
    "### Evaluasi model dengan Recall score"
   ]
  },
  {
   "cell_type": "markdown",
   "metadata": {},
   "source": [
    "Recall adalah proporsi dari data pada testing set kita yang memang benar-benar postif yang diprediksi postif"
   ]
  },
  {
   "cell_type": "markdown",
   "metadata": {},
   "source": [
    "_recall_ = $\\frac{tp}{tp+fn}$"
   ]
  },
  {
   "cell_type": "markdown",
   "metadata": {},
   "source": [
    "Referensi: https://en.wikipedia.org/wiki/Precision_and_recall"
   ]
  },
  {
   "cell_type": "code",
   "execution_count": 31,
   "metadata": {},
   "outputs": [
    {
     "name": "stdout",
     "output_type": "stream",
     "text": [
      "Recall:1.0\n"
     ]
    }
   ],
   "source": [
    "from sklearn.metrics import recall_score\n",
    "rec= recall_score(y_test, y_pred)\n",
    "print(f'Recall:{rec}')"
   ]
  },
  {
   "cell_type": "markdown",
   "metadata": {},
   "source": [
    "### Evaluasi model dengan F1 score"
   ]
  },
  {
   "cell_type": "markdown",
   "metadata": {},
   "source": [
    "F1 Score adalah harmonic mean dari precission dan recall"
   ]
  },
  {
   "cell_type": "markdown",
   "metadata": {},
   "source": [
    "### _F1_ = $2 x \\frac {precission x recall} {precission +recall}$"
   ]
  },
  {
   "cell_type": "markdown",
   "metadata": {},
   "source": [
    "Referensi: https://en.wikipedia.org/wiki/Precision_and_recall"
   ]
  },
  {
   "cell_type": "code",
   "execution_count": 32,
   "metadata": {},
   "outputs": [
    {
     "name": "stdout",
     "output_type": "stream",
     "text": [
      "F1-score: 0.8\n"
     ]
    }
   ],
   "source": [
    "from sklearn.metrics import f1_score\n",
    "f1 = f1_score(y_test, y_pred)\n",
    "print(f'F1-score: {f1}')"
   ]
  },
  {
   "cell_type": "markdown",
   "metadata": {},
   "source": [
    "### Evaluasi model dengan Classifaction Report"
   ]
  },
  {
   "cell_type": "markdown",
   "metadata": {},
   "source": [
    "Keemmpat matrix evaluasi yang ada di bagian-bagian sebelumnya bisa kita tampilkan sebagai classification Report"
   ]
  },
  {
   "cell_type": "code",
   "execution_count": 34,
   "metadata": {},
   "outputs": [
    {
     "name": "stdout",
     "output_type": "stream",
     "text": [
      "Classification Report:\n",
      "              precision    recall  f1-score   support\n",
      "\n",
      "           0       1.00      0.50      0.67         2\n",
      "           1       0.67      1.00      0.80         2\n",
      "\n",
      "    accuracy                           0.75         4\n",
      "   macro avg       0.83      0.75      0.73         4\n",
      "weighted avg       0.83      0.75      0.73         4\n",
      "\n"
     ]
    }
   ],
   "source": [
    "from sklearn.metrics import classification_report\n",
    "cls_report = classification_report (y_test, y_pred)\n",
    "print(f'Classification Report:\\n{cls_report}')"
   ]
  },
  {
   "cell_type": "markdown",
   "metadata": {},
   "source": [
    "### Evaluasi model dengan Matthews Correlation Coefficient (MCC)"
   ]
  },
  {
   "cell_type": "markdown",
   "metadata": {},
   "source": [
    "- MCC adalah alternative untuk F1 score untuk keperluan pengukuran performa dari binary classifiers\n",
    "- Nilai tertinggi MCC adalah 1\n",
    "- Kalo prediksinya dilakukan secara random dan ngawur maka nilai scorenya akan 0, atau model classifiernya benar-benar ngaco maka nilai scorenya akan -1"
   ]
  },
  {
   "cell_type": "markdown",
   "metadata": {},
   "source": [
    "### _MCC_ = $\\frac {tp X tn + fp X fn} {\\sqrt (tp + fp) X (tp+fn) X (tn+fp) X (tn+fn)}$"
   ]
  },
  {
   "cell_type": "markdown",
   "metadata": {},
   "source": [
    "Referensi: https://en.wikipedia.org/wiki/Matthews_correlation_coefficient"
   ]
  },
  {
   "cell_type": "code",
   "execution_count": 35,
   "metadata": {},
   "outputs": [
    {
     "name": "stdout",
     "output_type": "stream",
     "text": [
      "MCC:0.5773502691896258\n"
     ]
    }
   ],
   "source": [
    "from sklearn.metrics import matthews_corrcoef\n",
    "mcc = matthews_corrcoef(y_test, y_pred)\n",
    "print(f'MCC:{mcc}')"
   ]
  },
  {
   "cell_type": "markdown",
   "metadata": {},
   "source": [
    "source: https://www.youtube.com/watch?v=4zARMcgc7hA&t=897s Trs_m"
   ]
  }
 ],
 "metadata": {
  "kernelspec": {
   "display_name": "Python 3",
   "language": "python",
   "name": "python3"
  },
  "language_info": {
   "codemirror_mode": {
    "name": "ipython",
    "version": 3
   },
   "file_extension": ".py",
   "mimetype": "text/x-python",
   "name": "python",
   "nbconvert_exporter": "python",
   "pygments_lexer": "ipython3",
   "version": "3.8.5"
  }
 },
 "nbformat": 4,
 "nbformat_minor": 4
}
